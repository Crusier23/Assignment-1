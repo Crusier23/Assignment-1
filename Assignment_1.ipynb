{
 "cells": [
  {
   "cell_type": "code",
   "execution_count": 2,
   "id": "1da9a81a",
   "metadata": {},
   "outputs": [
    {
     "data": {
      "text/plain": [
       "float"
      ]
     },
     "execution_count": 2,
     "metadata": {},
     "output_type": "execute_result"
    }
   ],
   "source": [
    "a=\"string\"\n",
    "b=[]\n",
    "c=10.23\n",
    "type(c)"
   ]
  },
  {
   "cell_type": "code",
   "execution_count": null,
   "id": "f65bb6c5-dd54-4e27-a75c-c9a5915253a1",
   "metadata": {},
   "outputs": [],
   "source": [
    "'''2'''\n",
    "#(i)var1='' is a string data type\n",
    "#(ii)var2= ‘[ DS , ML , Python]’ is a string data type\n",
    "#(iii) var3 = [ ‘DS’ , ’ML’ , ‘Python’ ] is list data type\n",
    "#(iv) var4 = 1. is a int data type\n"
   ]
  },
  {
   "cell_type": "code",
   "execution_count": null,
   "id": "82c05cf3-19b8-4756-ab43-8c32a8821e93",
   "metadata": {},
   "outputs": [],
   "source": [
    "'''3'''\n",
    "a=4\n",
    "b=8\n",
    "\n",
    "print(b/a) #(i)using division operator prints 2.0\n",
    "print(b%a) #(ii) using modulus operator for the remainder which prints 0 \n",
    "print(b//a)# (iii) using floor division which gives 2\n",
    "print(a**b) # (iv) using exponential operator which gives 65536"
   ]
  },
  {
   "cell_type": "code",
   "execution_count": null,
   "id": "a1ee908a-abd3-40ae-adb5-713ce98113d4",
   "metadata": {
    "tags": []
   },
   "outputs": [],
   "source": [
    "'''4'''\n",
    "list=[1,2,3,4,'string','pwskills',10.23,'items',9,10]\n",
    "for i in list:\n",
    "    print(i)\n",
    "    \n",
    "    "
   ]
  },
  {
   "cell_type": "code",
   "execution_count": null,
   "id": "2f8aae6b-7599-4e1f-acab-9f7b6e17a4ed",
   "metadata": {
    "tags": []
   },
   "outputs": [],
   "source": [
    "'''5'''\n",
    "a=int(input(\"Enter Number to be checked \"))\n",
    "b=int(input(\"Enter Number with which will be checked\"))\n",
    "count=0\n",
    "while a%b==0:\n",
    " count=a//b\n",
    " print(\"Te number is divisible\\n\", \"the floor count is=\",count)\n",
    " break\n",
    "else:\n",
    "    print (\"not divisible\")"
   ]
  },
  {
   "cell_type": "code",
   "execution_count": null,
   "id": "38271a9f-caa0-4502-b128-84eb4093bf4d",
   "metadata": {},
   "outputs": [],
   "source": [
    "'''6'''\n",
    "list=[1,2,3,4,5,6,7,8,9,10,11,12,13,14,15,16,17,18,19,20,21,22,23,24,25]\n",
    "for i in list:\n",
    "   if i%3==0:\n",
    "        print(i,\" \"\"is divisible\")\n",
    "   else:\n",
    "        print(i,\" \"\"not divisible\")"
   ]
  },
  {
   "cell_type": "code",
   "execution_count": null,
   "id": "cd5284ad-0647-4ab7-8bae-b308f37a0fb9",
   "metadata": {},
   "outputs": [],
   "source": [
    "'''7'''\n",
    "#An immutable data type is a datatype in which we have a value that cannot be changed after it is created Ex-strings,integers, and tuples\n",
    "#mutable data types are the datatypes that can be changed even after it is created Ex - lists, dictionaries, and sets.\n",
    "# here we create a tuple\n",
    "my_tuple = (1, 2, 3)\n",
    "# now we try to modify an element\n",
    "my_tuple[0] = 4 \n",
    "#The output will be a TypeError\n",
    "  \n",
    "    \n",
    "#WHEREAS \n",
    "#we create a list\n",
    "list=[1,2,3]\n",
    "#we try to modify the elenent\n",
    "list[0]= 4\n",
    "print(list)\n",
    "#The output will be [4,2,3]"
   ]
  },
  {
   "cell_type": "code",
   "execution_count": null,
   "id": "2d40c583-0a25-4468-8b6e-dc43acea0267",
   "metadata": {},
   "outputs": [],
   "source": [
    "\n"
   ]
  }
 ],
 "metadata": {
  "kernelspec": {
   "display_name": "Python 3 (ipykernel)",
   "language": "python",
   "name": "python3"
  },
  "language_info": {
   "codemirror_mode": {
    "name": "ipython",
    "version": 3
   },
   "file_extension": ".py",
   "mimetype": "text/x-python",
   "name": "python",
   "nbconvert_exporter": "python",
   "pygments_lexer": "ipython3",
   "version": "3.10.8"
  }
 },
 "nbformat": 4,
 "nbformat_minor": 5
}
